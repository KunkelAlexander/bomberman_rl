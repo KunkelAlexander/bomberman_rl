{
 "cells": [
  {
   "cell_type": "code",
   "execution_count": null,
   "id": "84559fd4",
   "metadata": {
    "vscode": {
     "languageId": "plaintext"
    }
   },
   "outputs": [],
   "source": [
    "import numpy as np\n",
    "import matplotlib.pyplot as plt\n",
    "import os\n",
    "import re\n",
    "from glob import glob\n",
    "from IPython.display import Image, display\n",
    "import imageio\n",
    "\n",
    "# Step 1: List all q-table files\n",
    "file_pattern = re.compile(r'q-table_(\\d+)\\.pt\\.npz')\n",
    "q_files = sorted(glob(\"q-tables/q-table_*.pt.npz\"), key=lambda x: int(file_pattern.search(x).group(1)))\n",
    "\n",
    "print(f\"Found {len(q_files)} Q-tables.\")\n",
    "\n",
    "# Step 2: Create a folder for saving plots\n",
    "os.makedirs(\"qtable_images\", exist_ok=True)\n",
    "\n",
    "# Step 3: Visualize each Q-table\n",
    "images = []\n",
    "for file in q_files:\n",
    "    data = np.load(file)\n",
    "    q = data['q']\n",
    "\n",
    "    fig, ax = plt.subplots()\n",
    "    cax = ax.imshow(q, aspect='auto', cmap='viridis')\n",
    "    plt.colorbar(cax)\n",
    "    ax.set_title(f\"Q-table from {file}\")\n",
    "\n",
    "    img_path = f\"qtable_images/{os.path.basename(file).replace('.npz', '.png')}\"\n",
    "    plt.savefig(img_path)\n",
    "    plt.close(fig)\n",
    "\n",
    "    images.append(imageio.v2.imread(img_path))\n",
    "\n",
    "print(\"Generated images for all Q-tables.\")\n",
    "\n",
    "# Step 4 (Optional): Create a GIF\n",
    "gif_path = \"q-tables/qtable_evolution.gif\"\n",
    "imageio.mimsave(gif_path, images, fps=2)\n",
    "print(f\"Saved animated GIF: {gif_path}\")\n",
    "\n",
    "# Step 5: Display the GIF inside Jupyter Notebook\n",
    "display(Image(filename=gif_path))\n"
   ]
  }
 ],
 "metadata": {
  "language_info": {
   "name": "python"
  }
 },
 "nbformat": 4,
 "nbformat_minor": 5
}
